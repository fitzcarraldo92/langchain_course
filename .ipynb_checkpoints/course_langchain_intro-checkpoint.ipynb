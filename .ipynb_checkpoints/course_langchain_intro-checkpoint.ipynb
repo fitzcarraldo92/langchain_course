{
 "cells": [
  {
   "cell_type": "code",
   "execution_count": 1,
   "id": "95f85b4f",
   "metadata": {},
   "outputs": [],
   "source": [
    "import langchain"
   ]
  },
  {
   "cell_type": "code",
   "execution_count": null,
   "id": "0ceb194f",
   "metadata": {},
   "outputs": [],
   "source": [
    "'''\n",
    "open-source dev framework for LLM applications\n",
    "It has models, prompts, indexes, chains and agents\n",
    "\n",
    "'''"
   ]
  }
 ],
 "metadata": {
  "kernelspec": {
   "display_name": "Python 3 (ipykernel)",
   "language": "python",
   "name": "python3"
  },
  "language_info": {
   "codemirror_mode": {
    "name": "ipython",
    "version": 3
   },
   "file_extension": ".py",
   "mimetype": "text/x-python",
   "name": "python",
   "nbconvert_exporter": "python",
   "pygments_lexer": "ipython3",
   "version": "3.9.15"
  }
 },
 "nbformat": 4,
 "nbformat_minor": 5
}
